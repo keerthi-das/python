{
 "cells": [
  {
   "cell_type": "code",
   "execution_count": 26,
   "id": "76cc4800-3fa6-4c69-8c6e-e9bbebf2828e",
   "metadata": {},
   "outputs": [
    {
     "name": "stdout",
     "output_type": "stream",
     "text": [
      "KEERTHI DAS\n",
      "1AY24BT21\n",
      "6 3 10 5 16 8 4 2 1\n"
     ]
    }
   ],
   "source": [
    "print(\"KEERTHI DAS\")\n",
    "print(\"1AY24BT21\")\n",
    "def collatz(n):\n",
    "    \n",
    "    while n != 1:\n",
    "        print(n, end=' ')\n",
    "        if n % 2 == 0:\n",
    "            n //= 2\n",
    "        else:\n",
    "            n = 3 * n + 1\n",
    "    print(1)\n",
    "\n",
    "collatz(6)\n"
   ]
  },
  {
   "cell_type": "code",
   "execution_count": null,
   "id": "5bebc433-a5cb-4973-b48c-3944faa011dc",
   "metadata": {},
   "outputs": [],
   "source": []
  },
  {
   "cell_type": "code",
   "execution_count": null,
   "id": "2876360f-c320-4f50-b21e-1dfae1560b2e",
   "metadata": {},
   "outputs": [],
   "source": []
  }
 ],
 "metadata": {
  "kernelspec": {
   "display_name": "Python [conda env:base] *",
   "language": "python",
   "name": "conda-base-py"
  },
  "language_info": {
   "codemirror_mode": {
    "name": "ipython",
    "version": 3
   },
   "file_extension": ".py",
   "mimetype": "text/x-python",
   "name": "python",
   "nbconvert_exporter": "python",
   "pygments_lexer": "ipython3",
   "version": "3.12.7"
  }
 },
 "nbformat": 4,
 "nbformat_minor": 5
}
