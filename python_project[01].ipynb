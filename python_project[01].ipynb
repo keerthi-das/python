{
 "cells": [
  {
   "cell_type": "code",
   "execution_count": 2,
   "id": "16b2bf63-b95e-491c-90f3-ce1068b7b498",
   "metadata": {},
   "outputs": [
    {
     "name": "stdout",
     "output_type": "stream",
     "text": [
      "KEERTHI K S\n",
      "1AY24BT021\n",
      "H   O   Z  \n",
      " E L Z G A \n",
      "  L   I   G\n"
     ]
    }
   ],
   "source": [
    "print(\"KEERTHI K S\")\n",
    "print(\"1AY24BT021\")\n",
    "def print_zigzag(string):\n",
    "    row1 = \"\"\n",
    "    row2 = \"\"\n",
    "    row3 = \"\"\n",
    "    for i, ch in enumerate(string):\n",
    "        if i % 4 == 0:\n",
    "            row1 += ch\n",
    "            row2 += \" \"\n",
    "            row3 += \" \"\n",
    "        elif i % 4 == 1 or i % 4 == 3:\n",
    "            row1 += \" \"\n",
    "            row2 += ch\n",
    "            row3 += \" \"\n",
    "        else:\n",
    "            row1 += \" \"\n",
    "            row2 += \" \"\n",
    "            row3 += ch\n",
    "\n",
    "    print(row1)\n",
    "    print(row2)\n",
    "    print(row3)\n",
    "print_zigzag(\"HELLOZIGZAG\")\n"
   ]
  },
  {
   "cell_type": "code",
   "execution_count": 3,
   "id": "d604b693-7557-474e-a8a0-da4ea54103fe",
   "metadata": {},
   "outputs": [
    {
     "name": "stdout",
     "output_type": "stream",
     "text": [
      "KEERTHI K S\n",
      "1AY24BT021\n",
      ".█.\n",
      ".█.\n",
      ".█.\n",
      "\n",
      "...\n",
      "███\n",
      "...\n",
      "\n",
      ".█.\n",
      ".█.\n",
      ".█.\n",
      "\n",
      "...\n",
      "███\n",
      "...\n",
      "\n",
      ".█.\n",
      ".█.\n",
      ".█.\n",
      "\n",
      "...\n",
      "███\n",
      "...\n",
      "\n"
     ]
    }
   ],
   "source": [
    "print(\"KEERTHI K S\")\n",
    "print(\"1AY24BT021\")\n",
    "import time\n",
    "grid = [\n",
    "    [0, 1, 0],\n",
    "    [0, 1, 0],\n",
    "    [0, 1, 0],\n",
    "]\n",
    "def print_grid(g):\n",
    "    for row in g:\n",
    "        print(\"\".join(\"█\" if cell else \".\" for cell in row))\n",
    "    print()\n",
    "def next_gen(g):\n",
    "    new = [[0]*3 for _ in range(3)]\n",
    "    for i in range(3):\n",
    "        for j in range(3):\n",
    "            count = 0\n",
    "            for x in [-1, 0, 1]:\n",
    "                for y in [-1, 0, 1]:\n",
    "                    if x == 0 and y == 0:\n",
    "                        continue\n",
    "                    ni, nj = i + x, j + y\n",
    "                    if 0 <= ni < 3 and 0 <= nj < 3:\n",
    "                        count += g[ni][nj]\n",
    "            if g[i][j] == 1 and count in [2, 3]:\n",
    "                new[i][j] = 1\n",
    "            if g[i][j] == 0 and count == 3:\n",
    "                new[i][j] = 1\n",
    "    return new\n",
    "for _ in range(6):  # Run 6 steps\n",
    "    print_grid(grid)\n",
    "    grid = next_gen(grid)\n",
    "    time.sleep(0.5)\n"
   ]
  },
  {
   "cell_type": "code",
   "execution_count": 4,
   "id": "3711c5c9-e48a-4cc5-a1bc-1baf3817af6a",
   "metadata": {},
   "outputs": [
    {
     "name": "stdout",
     "output_type": "stream",
     "text": [
      "KEERTHI K S\n",
      "1AY24BT021\n",
      "apples, bananas, tofu, and cats\n"
     ]
    }
   ],
   "source": [
    "print(\"KEERTHI K S\")\n",
    "print(\"1AY24BT021\")\n",
    "def comma_code(items):\n",
    "    if len(items) == 0:\n",
    "        return ''\n",
    "    elif len(items) == 1:\n",
    "        return items[0]\n",
    "    else:\n",
    "        return ', '.join(items[:-1]) + ', and ' + items[-1]\n",
    "my_list = [\"apples\", \"bananas\", \"tofu\", \"cats\"]\n",
    "result = comma_code(my_list)\n",
    "print(result)\n"
   ]
  },
  {
   "cell_type": "code",
   "execution_count": 5,
   "id": "ef7cc5e1-3a2a-414b-bce1-e2bd66f51122",
   "metadata": {},
   "outputs": [
    {
     "name": "stdout",
     "output_type": "stream",
     "text": [
      "KEERTHI K S\n",
      "1AY24BT021\n",
      "THHTTHHTHTTTTTTTTTHHTHHHTTTTTTTHTHHHTHTHTTTHHHHTHTHTTHTHHTHTTTHHHTTHTHTHTHHHTHHHTTTHTHTHHTTTTTTTTTHT\n",
      "Streak of 6 found!\n"
     ]
    }
   ],
   "source": [
    "print(\"KEERTHI K S\")\n",
    "print(\"1AY24BT021\")\n",
    "import random\n",
    "flips = [random.choice(['H', 'T']) for _ in range(100)]\n",
    "print(\"\".join(flips))\n",
    "if 'HHHHHH' in \"\".join(flips) or 'TTTTTT' in \"\".join(flips):\n",
    "    print(\"Streak of 6 found!\")\n",
    "else:\n",
    "    print(\"No streak of 6.\")\n"
   ]
  },
  {
   "cell_type": "code",
   "execution_count": 6,
   "id": "3a32a067-c1f1-495c-844f-ecf0f775b293",
   "metadata": {},
   "outputs": [
    {
     "name": "stdout",
     "output_type": "stream",
     "text": [
      "KEERTHI K S\n",
      "1AY24BT021\n",
      "..OO.OO..\n",
      ".OOOOOOO.\n",
      ".OOOOOOO.\n",
      "..OOOOO..\n",
      "...OOO...\n",
      "....O....\n"
     ]
    }
   ],
   "source": [
    "print(\"KEERTHI K S\")\n",
    "print(\"1AY24BT021\")\n",
    "grid = [\n",
    "    ['.', '.', '.', '.', '.', '.'],\n",
    "    ['.', 'O', 'O', '.', '.', '.'],\n",
    "    ['O', 'O', 'O', 'O', '.', '.'],\n",
    "    ['O', 'O', 'O', 'O', 'O', '.'],\n",
    "    ['.', 'O', 'O', 'O', 'O', 'O'],\n",
    "    ['O', 'O', 'O', 'O', 'O', '.'],\n",
    "    ['O', 'O', 'O', 'O', '.', '.'],\n",
    "    ['.', 'O', 'O', '.', '.', '.'],\n",
    "    ['.', '.', '.', '.', '.', '.']\n",
    "]\n",
    "for x in range(len(grid[0])):\n",
    "    for y in range(len(grid)):\n",
    "        print(grid[y][x], end='')\n",
    "    print()\n"
   ]
  },
  {
   "cell_type": "code",
   "execution_count": 7,
   "id": "c323b884-84ea-4805-a8f9-69434d4a7169",
   "metadata": {},
   "outputs": [
    {
     "name": "stdout",
     "output_type": "stream",
     "text": [
      "KEERTHI K S\n",
      "1AY24BT021\n",
      "Board is valid.\n"
     ]
    }
   ],
   "source": [
    "print(\"KEERTHI K S\")\n",
    "print(\"1AY24BT021\")\n",
    "def is_valid_chess_board(board):\n",
    "    white_king = 0\n",
    "    black_king = 0\n",
    "\n",
    "    for piece in board.values():\n",
    "        if piece == 'wking':\n",
    "            white_king += 1\n",
    "        elif piece == 'bking':\n",
    "            black_king += 1\n",
    "\n",
    "    if white_king == 1 and black_king == 1:\n",
    "        return True\n",
    "    else:\n",
    "        return False\n",
    "\n",
    "# Example chess board\n",
    "chess_board = {\n",
    "    'e1': 'wking',\n",
    "    'e8': 'bking',\n",
    "    'a2': 'wpawn',\n",
    "    'a7': 'bpawn',\n",
    "}\n",
    "\n",
    "# Check and print result\n",
    "if is_valid_chess_board(chess_board):\n",
    "    print(\"Board is valid.\")\n",
    "else:\n",
    "    print(\"Board is invalid.\")\n"
   ]
  },
  {
   "cell_type": "code",
   "execution_count": 8,
   "id": "62de89f8-3abd-4a84-9f80-bb741db206a1",
   "metadata": {},
   "outputs": [
    {
     "name": "stdout",
     "output_type": "stream",
     "text": [
      "KEERTHI K S\n",
      "1AY24BT021\n",
      "Inventory:\n",
      "gold coin 5\n",
      "dagger 1\n",
      "rope 2\n"
     ]
    }
   ],
   "source": [
    "print(\"KEERTHI K S\")\n",
    "print(\"1AY24BT021\")\n",
    "inventory = {\n",
    "    'gold coin': 5,\n",
    "    'dagger': 1,\n",
    "    'rope': 2\n",
    "}\n",
    "print(\"Inventory:\")\n",
    "for item in inventory:\n",
    "    print(item,inventory[item])"
   ]
  },
  {
   "cell_type": "code",
   "execution_count": 9,
   "id": "114fac2c-33cd-4e94-a953-2e40fc90a589",
   "metadata": {},
   "outputs": [
    {
     "name": "stdout",
     "output_type": "stream",
     "text": [
      "KEERTHI K S\n",
      "1AY24BT021\n",
      "apples Alice dogs\n",
      "oranges Bob cats\n",
      "cherries Carol moose\n",
      "banana David goose\n"
     ]
    }
   ],
   "source": [
    "print(\"KEERTHI K S\")\n",
    "print(\"1AY24BT021\")\n",
    "tableData = [\n",
    "    ['apples', 'oranges', 'cherries', 'banana'],\n",
    "    ['Alice', 'Bob', 'Carol', 'David'],\n",
    "    ['dogs', 'cats', 'moose', 'goose']\n",
    "]\n",
    "for i in range(len(tableData[0])):\n",
    "    print(tableData[0][i], tableData[1][i], tableData[2][i])\n"
   ]
  },
  {
   "cell_type": "code",
   "execution_count": 10,
   "id": "5175da20-1634-4253-a123-af09d3848ee0",
   "metadata": {},
   "outputs": [
    {
     "name": "stdout",
     "output_type": "stream",
     "text": [
      "KEERTHI K S\n",
      "1AY24BT021\n",
      "Bot's turn:\n",
      "Rolled: brain\n",
      "Rolled: footsteps\n",
      "Rolled: shotgun\n",
      "Brains collected: 1\n",
      "Shotguns hit: 1\n"
     ]
    }
   ],
   "source": [
    "print(\"KEERTHI K S\")\n",
    "print(\"1AY24BT021\")\n",
    "import random\n",
    "dice = ['brain', 'footsteps', 'shotgun']\n",
    "brains = 0\n",
    "shotguns = 0\n",
    "print(\"Bot's turn:\")\n",
    "for _ in range(3):\n",
    "    roll = random.choice(dice)\n",
    "    print(\"Rolled:\", roll)\n",
    "    if roll == 'brain':\n",
    "        brains += 1\n",
    "    elif roll == 'shotgun':\n",
    "        shotguns += 1\n",
    "print(\"Brains collected:\", brains)\n",
    "print(\"Shotguns hit:\", shotguns)\n",
    "if shotguns >= 3:\n",
    "    print(\"Turn over due to shotguns!\")\n"
   ]
  },
  {
   "cell_type": "code",
   "execution_count": 11,
   "id": "8136bfb9-29d3-4e8d-b356-6bc45df6dfa2",
   "metadata": {},
   "outputs": [
    {
     "name": "stdout",
     "output_type": "stream",
     "text": [
      "KEERTHI K S\n",
      "1AY24BT021\n",
      "10\n"
     ]
    }
   ],
   "source": [
    "print(\"KEERTHI K S\")\n",
    "print(\"1AY24BT021\")\n",
    "def collatz(n):\n",
    "    if(n==1):\n",
    "        return\n",
    "    elif(n%2==0):\n",
    "         num1=n//2\n",
    "         print(num1)\n",
    "    else:\n",
    "        num2=n*3+1\n",
    "        print(num2)\n",
    "collatz(3)  "
   ]
  },
  {
   "cell_type": "code",
   "execution_count": 12,
   "id": "c14d64dd-e624-4cc9-ab24-5b3e98f7a402",
   "metadata": {},
   "outputs": [
    {
     "name": "stdout",
     "output_type": "stream",
     "text": [
      "KEERTHI K S\n",
      "1AY24BT021\n",
      "you lost\n",
      "Its tie\n",
      "you lost\n"
     ]
    }
   ],
   "source": [
    "import random\n",
    "print(\"KEERTHI K S\")\n",
    "print(\"1AY24BT021\")\n",
    "while True:\n",
    "    user_choice=input(\"Enter your move : (a)rock (b)paper (c)seissor (d)quit \")\n",
    "    if user_choice == \"d\":\n",
    "        break\n",
    "    choice=[\"a\",\"b\",\"c\"]\n",
    "    if user_choice not in choice:\n",
    "        print(\"Invalid option try again\")\n",
    "        continue\n",
    "    computer_choice=random.choice(choice)\n",
    "    \n",
    "    if user_choice==computer_choice:\n",
    "        print(\"Its tie\")\n",
    "    elif(user_choice==\"a\" and computer_choice==\"c\")or \\\n",
    "        (user_choice==\"b\" and computer_choice==\"a\")or \\\n",
    "        (user_choice==\"c\" and computer_choice==\"b\"):\n",
    "         print(\"you won\")\n",
    "    else:\n",
    "        print(\"you lost\")"
   ]
  },
  {
   "cell_type": "code",
   "execution_count": 13,
   "id": "ada6ba4b-3824-40b3-b926-c33e85e7dd93",
   "metadata": {},
   "outputs": [
    {
     "name": "stdout",
     "output_type": "stream",
     "text": [
      "KEERTHI K S\n",
      "1AY24BT021\n",
      "low guess\n",
      "high guess\n",
      "high guess\n",
      "high guess\n",
      "you have guessed right number\n",
      "you have guessed numbered in 4 attempt\n"
     ]
    }
   ],
   "source": [
    "import random\n",
    "print(\"KEERTHI K S\")\n",
    "print(\"1AY24BT021\")\n",
    "target=random.randint(0,20)\n",
    "for i in range(20):\n",
    "    choice=int(input(\"guess a number from 1 to 20:\"))\n",
    "    if(choice==target):\n",
    "        print(\"you have guessed right number\")\n",
    "        print(\"you have guessed numbered in\" ,i,\"attempt\")\n",
    "        break\n",
    "    elif(choice<target):\n",
    "        print(\"low guess\")\n",
    "    else:\n",
    "        print(\"high guess\")"
   ]
  },
  {
   "cell_type": "code",
   "execution_count": null,
   "id": "6a201e0e-dfdf-4008-8739-b5ff92de1f27",
   "metadata": {},
   "outputs": [],
   "source": []
  }
 ],
 "metadata": {
  "kernelspec": {
   "display_name": "base",
   "language": "python",
   "name": "python3"
  },
  "language_info": {
   "codemirror_mode": {
    "name": "ipython",
    "version": 3
   },
   "file_extension": ".py",
   "mimetype": "text/x-python",
   "name": "python",
   "nbconvert_exporter": "python",
   "pygments_lexer": "ipython3",
   "version": "3.12.7"
  }
 },
 "nbformat": 4,
 "nbformat_minor": 5
}
