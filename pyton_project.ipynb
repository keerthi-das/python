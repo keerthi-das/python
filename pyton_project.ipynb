{
 "cells": [
  {
   "cell_type": "code",
   "execution_count": 1,
   "id": "161a09ac",
   "metadata": {},
   "outputs": [
    {
     "name": "stdout",
     "output_type": "stream",
     "text": [
      "KEERTHI K S\n",
      "1AY24BT021\n",
      "H   O   Z  \n",
      " E L Z G A \n",
      "  L   I   G\n"
     ]
    }
   ],
   "source": [
    "print(\"KEERTHI K S\")\n",
    "print(\"1AY24BT021\")\n",
    "\n",
    "def print_zigzag(string):\n",
    "    row1 = \"\"\n",
    "    row2 = \"\"\n",
    "    row3 = \"\"\n",
    "    for i, ch in enumerate(string):\n",
    "        if i % 4 == 0:\n",
    "            row1 += ch\n",
    "            row2 += \" \"\n",
    "            row3 += \" \"\n",
    "        elif i % 4 == 1 or i % 4 == 3:\n",
    "            row1 += \" \"\n",
    "            row2 += ch\n",
    "            row3 += \" \"\n",
    "        else:\n",
    "            row1 += \" \"\n",
    "            row2 += \" \"\n",
    "            row3 += ch\n",
    "\n",
    "    print(row1)\n",
    "    print(row2)\n",
    "    print(row3)\n",
    "print_zigzag(\"HELLOZIGZAG\")\n"
   ]
  }
 ],
 "metadata": {
  "kernelspec": {
   "display_name": "base",
   "language": "python",
   "name": "python3"
  },
  "language_info": {
   "codemirror_mode": {
    "name": "ipython",
    "version": 3
   },
   "file_extension": ".py",
   "mimetype": "text/x-python",
   "name": "python",
   "nbconvert_exporter": "python",
   "pygments_lexer": "ipython3",
   "version": "3.12.7"
  }
 },
 "nbformat": 4,
 "nbformat_minor": 5
}
